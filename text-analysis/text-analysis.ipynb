{
 "cells": [
  {
   "attachments": {},
   "cell_type": "markdown",
   "metadata": {},
   "source": [
    "# <span><center><div style=\"font-family: Trebuchet MS; background-color: #C32f0d; color: #eeeee4; padding: 12px; line-height: 1;\">British Airway Reviews Text Cleansing</div></center></span>"
   ]
  },
  {
   "cell_type": "code",
   "execution_count": 1,
   "metadata": {},
   "outputs": [],
   "source": [
    "import pandas as pd\n",
    "import re"
   ]
  },
  {
   "attachments": {},
   "cell_type": "markdown",
   "metadata": {},
   "source": [
    "# <span><center><div style=\"font-family: Trebuchet MS; background-color: #C32f0d; color: #eeeee4; padding: 12px; line-height: 1;\">Load Dataset</div></center></span>"
   ]
  },
  {
   "cell_type": "code",
   "execution_count": 2,
   "metadata": {},
   "outputs": [],
   "source": [
    "dataset_path = '../dataset/british_airways_review.csv'\n",
    "\n",
    "ba_reviews = pd.read_csv(dataset_path)"
   ]
  },
  {
   "cell_type": "code",
   "execution_count": 3,
   "metadata": {},
   "outputs": [
    {
     "name": "stdout",
     "output_type": "stream",
     "text": [
      "(3400, 1)\n"
     ]
    },
    {
     "data": {
      "text/html": [
       "<div>\n",
       "<style scoped>\n",
       "    .dataframe tbody tr th:only-of-type {\n",
       "        vertical-align: middle;\n",
       "    }\n",
       "\n",
       "    .dataframe tbody tr th {\n",
       "        vertical-align: top;\n",
       "    }\n",
       "\n",
       "    .dataframe thead th {\n",
       "        text-align: right;\n",
       "    }\n",
       "</style>\n",
       "<table border=\"1\" class=\"dataframe\">\n",
       "  <thead>\n",
       "    <tr style=\"text-align: right;\">\n",
       "      <th></th>\n",
       "      <th>reviews</th>\n",
       "    </tr>\n",
       "  </thead>\n",
       "  <tbody>\n",
       "    <tr>\n",
       "      <th>0</th>\n",
       "      <td>✅ Trip Verified |  The incoming and outgoing f...</td>\n",
       "    </tr>\n",
       "    <tr>\n",
       "      <th>1</th>\n",
       "      <td>✅ Trip Verified |  Back in December my family ...</td>\n",
       "    </tr>\n",
       "    <tr>\n",
       "      <th>2</th>\n",
       "      <td>✅ Trip Verified |  As usual the flight is dela...</td>\n",
       "    </tr>\n",
       "    <tr>\n",
       "      <th>3</th>\n",
       "      <td>✅ Trip Verified | A short BA euro trip and thi...</td>\n",
       "    </tr>\n",
       "    <tr>\n",
       "      <th>4</th>\n",
       "      <td>Not Verified |  We are flying Business class f...</td>\n",
       "    </tr>\n",
       "  </tbody>\n",
       "</table>\n",
       "</div>"
      ],
      "text/plain": [
       "                                             reviews\n",
       "0  ✅ Trip Verified |  The incoming and outgoing f...\n",
       "1  ✅ Trip Verified |  Back in December my family ...\n",
       "2  ✅ Trip Verified |  As usual the flight is dela...\n",
       "3  ✅ Trip Verified | A short BA euro trip and thi...\n",
       "4  Not Verified |  We are flying Business class f..."
      ]
     },
     "execution_count": 3,
     "metadata": {},
     "output_type": "execute_result"
    }
   ],
   "source": [
    "# See overview\n",
    "print(ba_reviews.shape)\n",
    "ba_reviews.head()"
   ]
  },
  {
   "cell_type": "code",
   "execution_count": 4,
   "metadata": {},
   "outputs": [
    {
     "name": "stdout",
     "output_type": "stream",
     "text": [
      "✅ Trip Verified |  The incoming and outgoing flight was delayed because French Air Traffic Controllers were on strike so we were routed over Germany, and not BA's fault. O arrival the pilot announced we could not pull onto the stand as no ground crew had showed up to turn on the automatic last metre guidance. It took around 40 minutes to find someone. Then when that was done there was a further delay as there were no ground staff to operate the skybridge. All told we were trapped on the plane for over an hour within metres of our gate. Total disruption, wasted time. Absolutely no excuse for this.\n",
      "Not Verified |  I would like to thank all the air and cabin crew for having the best experience with a very long journey! I don’t know how you manage to keep smiling. Couldn’t fault anything. Helpful, reassuring, excellent food and I can’t wait to fly again. Thank you and I really appreciated you.\n",
      "LHR-LAX-LHR. This route is the new A380 which I was very much looking forward to travelling on it certainly did not disappoint. I paid £20 extra to reserve seats in the upper deck at the very back this area is only 4 rows separated by galley and toilets and really does feel like its own private cabin. Plus the seating on the upper deck in a 2-4-2 layout means sitting by the window not only feels more spacious as you only have 1 person next to you but due to the shape of the A380 you get huge amounts of shoulder room and access to little storage lockers below the window. Flew Virgin UC on my last trip to LA in a tired and dated aircraft and BA economy was welcome. Can not recommend BA enough.\n"
     ]
    }
   ],
   "source": [
    "# See sample of full text\n",
    "print(ba_reviews['reviews'][0])\n",
    "print(ba_reviews['reviews'][100])\n",
    "print(ba_reviews['reviews'][3399])"
   ]
  },
  {
   "attachments": {},
   "cell_type": "markdown",
   "metadata": {},
   "source": [
    "# <span><center><div style=\"font-family: Trebuchet MS; background-color: #C32f0d; color: #eeeee4; padding: 12px; line-height: 1;\">Cleansing</div></center></span>"
   ]
  },
  {
   "cell_type": "code",
   "execution_count": 42,
   "metadata": {},
   "outputs": [],
   "source": [
    "# Define functions for cleansing\n",
    "\n",
    "def remove_verified_status(text):\n",
    "    patterns = ['.*✅ Trip Verified \\|  ', 'Not Verified \\|  ']\n",
    "    for pattern in patterns:\n",
    "        text = re.sub(pattern, '', text)\n",
    "    return text"
   ]
  },
  {
   "cell_type": "code",
   "execution_count": 43,
   "metadata": {},
   "outputs": [],
   "source": [
    "ba_reviews['reviews'] = ba_reviews['reviews'].apply(remove_verified_status)"
   ]
  },
  {
   "cell_type": "code",
   "execution_count": 44,
   "metadata": {},
   "outputs": [
    {
     "data": {
      "text/plain": [
       "'A short BA euro trip and this is where BA excel. Clean aircraft, good crew, professional, on time (within LHR standards) and a good value product delivered. Pity the in flight food sales were not a bit more exciting and appealing as more than a few asked about the non existent hot food options. But good overall. Check in self service is great now once you know how to use it with plenty assistance on hand for those who can’t.'"
      ]
     },
     "execution_count": 44,
     "metadata": {},
     "output_type": "execute_result"
    }
   ],
   "source": [
    "ba_reviews['reviews'][3]"
   ]
  },
  {
   "cell_type": "code",
   "execution_count": 48,
   "metadata": {},
   "outputs": [
    {
     "data": {
      "text/html": [
       "<div>\n",
       "<style scoped>\n",
       "    .dataframe tbody tr th:only-of-type {\n",
       "        vertical-align: middle;\n",
       "    }\n",
       "\n",
       "    .dataframe tbody tr th {\n",
       "        vertical-align: top;\n",
       "    }\n",
       "\n",
       "    .dataframe thead th {\n",
       "        text-align: right;\n",
       "    }\n",
       "</style>\n",
       "<table border=\"1\" class=\"dataframe\">\n",
       "  <thead>\n",
       "    <tr style=\"text-align: right;\">\n",
       "      <th></th>\n",
       "      <th>reviews</th>\n",
       "    </tr>\n",
       "  </thead>\n",
       "  <tbody>\n",
       "    <tr>\n",
       "      <th>0</th>\n",
       "      <td>The incoming and outgoing flight was delayed b...</td>\n",
       "    </tr>\n",
       "    <tr>\n",
       "      <th>1</th>\n",
       "      <td>Back in December my family and I as we were ge...</td>\n",
       "    </tr>\n",
       "    <tr>\n",
       "      <th>2</th>\n",
       "      <td>As usual the flight is delayed this week, it a...</td>\n",
       "    </tr>\n",
       "    <tr>\n",
       "      <th>3</th>\n",
       "      <td>A short BA euro trip and this is where BA exce...</td>\n",
       "    </tr>\n",
       "    <tr>\n",
       "      <th>4</th>\n",
       "      <td>We are flying Business class for most of our f...</td>\n",
       "    </tr>\n",
       "  </tbody>\n",
       "</table>\n",
       "</div>"
      ],
      "text/plain": [
       "                                             reviews\n",
       "0  The incoming and outgoing flight was delayed b...\n",
       "1  Back in December my family and I as we were ge...\n",
       "2  As usual the flight is delayed this week, it a...\n",
       "3  A short BA euro trip and this is where BA exce...\n",
       "4  We are flying Business class for most of our f..."
      ]
     },
     "execution_count": 48,
     "metadata": {},
     "output_type": "execute_result"
    }
   ],
   "source": [
    "# Check after cleansing\n",
    "ba_reviews.head()"
   ]
  }
 ],
 "metadata": {
  "kernelspec": {
   "display_name": "base",
   "language": "python",
   "name": "python3"
  },
  "language_info": {
   "codemirror_mode": {
    "name": "ipython",
    "version": 3
   },
   "file_extension": ".py",
   "mimetype": "text/x-python",
   "name": "python",
   "nbconvert_exporter": "python",
   "pygments_lexer": "ipython3",
   "version": "3.9.13"
  },
  "orig_nbformat": 4
 },
 "nbformat": 4,
 "nbformat_minor": 2
}
