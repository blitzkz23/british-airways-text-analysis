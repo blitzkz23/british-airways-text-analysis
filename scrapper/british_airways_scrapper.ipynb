{
 "cells": [
  {
   "attachments": {},
   "cell_type": "markdown",
   "metadata": {},
   "source": [
    "# Task 1\n",
    "\n",
    "---\n",
    "\n",
    "## Web scraping and analysis\n",
    "### Scraping data from Skytrax\n",
    "\n",
    "If you visit [https://www.airlinequality.com] you can see that there is a lot of data there. For this task, we are only interested in reviews related to British Airways and the Airline itself.\n",
    "\n",
    "If you navigate to this link: [https://www.airlinequality.com/airline-reviews/british-airways] you will see this data. Now, we can use `Python` and `BeautifulSoup` to collect all the links to the reviews and then to collect the text data on each of the individual review links."
   ]
  },
  {
   "cell_type": "code",
   "execution_count": 6,
   "metadata": {},
   "outputs": [],
   "source": [
    "import requests\n",
    "from bs4 import BeautifulSoup\n",
    "import pandas as pd"
   ]
  },
  {
   "cell_type": "code",
   "execution_count": 7,
   "metadata": {},
   "outputs": [
    {
     "name": "stdout",
     "output_type": "stream",
     "text": [
      "Scrapping page 1\n",
      "   ---> 100 total reviews\n",
      "Scrapping page 2\n",
      "   ---> 200 total reviews\n",
      "Scrapping page 3\n",
      "   ---> 300 total reviews\n",
      "Scrapping page 4\n",
      "   ---> 400 total reviews\n",
      "Scrapping page 5\n",
      "   ---> 500 total reviews\n",
      "Scrapping page 6\n",
      "   ---> 600 total reviews\n",
      "Scrapping page 7\n",
      "   ---> 700 total reviews\n",
      "Scrapping page 8\n",
      "   ---> 800 total reviews\n",
      "Scrapping page 9\n",
      "   ---> 900 total reviews\n",
      "Scrapping page 10\n",
      "   ---> 1000 total reviews\n",
      "Scrapping page 11\n",
      "   ---> 1100 total reviews\n",
      "Scrapping page 12\n",
      "   ---> 1200 total reviews\n",
      "Scrapping page 13\n",
      "   ---> 1300 total reviews\n",
      "Scrapping page 14\n",
      "   ---> 1400 total reviews\n",
      "Scrapping page 15\n",
      "   ---> 1500 total reviews\n",
      "Scrapping page 16\n",
      "   ---> 1600 total reviews\n",
      "Scrapping page 17\n",
      "   ---> 1700 total reviews\n",
      "Scrapping page 18\n",
      "   ---> 1800 total reviews\n",
      "Scrapping page 19\n",
      "   ---> 1900 total reviews\n",
      "Scrapping page 20\n",
      "   ---> 2000 total reviews\n",
      "Scrapping page 21\n",
      "   ---> 2100 total reviews\n",
      "Scrapping page 22\n",
      "   ---> 2200 total reviews\n",
      "Scrapping page 23\n",
      "   ---> 2300 total reviews\n",
      "Scrapping page 24\n",
      "   ---> 2400 total reviews\n",
      "Scrapping page 25\n",
      "   ---> 2500 total reviews\n",
      "Scrapping page 26\n",
      "   ---> 2600 total reviews\n",
      "Scrapping page 27\n",
      "   ---> 2700 total reviews\n",
      "Scrapping page 28\n",
      "   ---> 2800 total reviews\n",
      "Scrapping page 29\n",
      "   ---> 2900 total reviews\n",
      "Scrapping page 30\n",
      "   ---> 3000 total reviews\n",
      "Scrapping page 31\n",
      "   ---> 3100 total reviews\n",
      "Scrapping page 32\n",
      "   ---> 3200 total reviews\n",
      "Scrapping page 33\n",
      "   ---> 3300 total reviews\n",
      "Scrapping page 34\n",
      "   ---> 3400 total reviews\n"
     ]
    }
   ],
   "source": [
    "# Declare constants\n",
    "BASE_URL = 'https://www.airlinequality.com/airline-reviews/british-airways'\n",
    "PAGE_NUM = 34\n",
    "PAGE_SIZE = 100\n",
    "\n",
    "# Empty list to store scrapped review\n",
    "reviews = []\n",
    "\n",
    "# Loop through page\n",
    "for i in range(1, PAGE_NUM + 1):\n",
    "    print(f'Scrapping page {i}')\n",
    "\n",
    "    # Create url to collect links from paginated data\n",
    "    url = f'{BASE_URL}/page/{i}/?sortby=post_date%3ADesc&pagesize={PAGE_SIZE}'\n",
    "\n",
    "    # Collect HTML response from the page\n",
    "    response = requests.get(url)\n",
    "\n",
    "    # Parse HTML with Beautiful Soup\n",
    "    html_content = response.content\n",
    "    parsed_content = BeautifulSoup(html_content, 'html.parser')\n",
    "    \n",
    "    # Loop trough all text_content div in the website which contains the review\n",
    "    for element in parsed_content.find_all('div', {'class': 'text_content'}):\n",
    "        reviews.append(element.get_text())\n",
    "\n",
    "    print(f\"   ---> {len(reviews)} total reviews\")\n"
   ]
  },
  {
   "cell_type": "code",
   "execution_count": 16,
   "metadata": {},
   "outputs": [],
   "source": [
    "# Turn the list of reviews into dataframe\n",
    "df = pd.DataFrame()\n",
    "df['reviews'] = reviews"
   ]
  },
  {
   "cell_type": "code",
   "execution_count": 21,
   "metadata": {},
   "outputs": [
    {
     "data": {
      "text/html": [
       "<div>\n",
       "<style scoped>\n",
       "    .dataframe tbody tr th:only-of-type {\n",
       "        vertical-align: middle;\n",
       "    }\n",
       "\n",
       "    .dataframe tbody tr th {\n",
       "        vertical-align: top;\n",
       "    }\n",
       "\n",
       "    .dataframe thead th {\n",
       "        text-align: right;\n",
       "    }\n",
       "</style>\n",
       "<table border=\"1\" class=\"dataframe\">\n",
       "  <thead>\n",
       "    <tr style=\"text-align: right;\">\n",
       "      <th></th>\n",
       "      <th>reviews</th>\n",
       "    </tr>\n",
       "  </thead>\n",
       "  <tbody>\n",
       "    <tr>\n",
       "      <th>0</th>\n",
       "      <td>✅ Trip Verified |  The incoming and outgoing f...</td>\n",
       "    </tr>\n",
       "    <tr>\n",
       "      <th>1</th>\n",
       "      <td>✅ Trip Verified |  Back in December my family ...</td>\n",
       "    </tr>\n",
       "    <tr>\n",
       "      <th>2</th>\n",
       "      <td>✅ Trip Verified |  As usual the flight is dela...</td>\n",
       "    </tr>\n",
       "    <tr>\n",
       "      <th>3</th>\n",
       "      <td>✅ Trip Verified | A short BA euro trip and thi...</td>\n",
       "    </tr>\n",
       "    <tr>\n",
       "      <th>4</th>\n",
       "      <td>Not Verified |  We are flying Business class f...</td>\n",
       "    </tr>\n",
       "  </tbody>\n",
       "</table>\n",
       "</div>"
      ],
      "text/plain": [
       "                                             reviews\n",
       "0  ✅ Trip Verified |  The incoming and outgoing f...\n",
       "1  ✅ Trip Verified |  Back in December my family ...\n",
       "2  ✅ Trip Verified |  As usual the flight is dela...\n",
       "3  ✅ Trip Verified | A short BA euro trip and thi...\n",
       "4  Not Verified |  We are flying Business class f..."
      ]
     },
     "execution_count": 21,
     "metadata": {},
     "output_type": "execute_result"
    }
   ],
   "source": [
    "# See some sample\n",
    "df.head()"
   ]
  },
  {
   "cell_type": "code",
   "execution_count": 23,
   "metadata": {},
   "outputs": [],
   "source": [
    "path_to_dataset = '../dataset/'\n",
    "dataset_name = 'british_airways_review.csv'"
   ]
  },
  {
   "cell_type": "code",
   "execution_count": 24,
   "metadata": {},
   "outputs": [],
   "source": [
    "# Save the acquired dataframe into csv for later text analysis\n",
    "df.to_csv(path_to_dataset+dataset_name, index=False)"
   ]
  }
 ],
 "metadata": {
  "kernelspec": {
   "display_name": "base",
   "language": "python",
   "name": "python3"
  },
  "language_info": {
   "codemirror_mode": {
    "name": "ipython",
    "version": 3
   },
   "file_extension": ".py",
   "mimetype": "text/x-python",
   "name": "python",
   "nbconvert_exporter": "python",
   "pygments_lexer": "ipython3",
   "version": "3.9.13"
  },
  "orig_nbformat": 4
 },
 "nbformat": 4,
 "nbformat_minor": 2
}
